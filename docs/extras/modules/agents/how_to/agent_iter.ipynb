{
 "cells": [
  {
   "cell_type": "code",
   "execution_count": 16,
   "id": "6a8a8b9f",
   "metadata": {},
   "outputs": [],
   "source": [
    "import os\n",
    "\n",
    "import dotenv\n",
    "import pydantic\n",
    "from langchain.agents import AgentExecutor, initialize_agent, AgentType\n",
    "from langchain.agents.tools import Tool\n",
    "from langchain import LLMMathChain\n",
    "from langchain.chat_models import ChatOpenAI\n",
    "\n",
    "# assuming .env in root of repo contains OPENAI_API_KEY\n",
    "dotenv.load_dotenv(\"../../../../../.env\")\n",
    "\n",
    "llm = ChatOpenAI(temperature=0)\n",
    "llm_math_chain = LLMMathChain(llm=llm, verbose=True)"
   ]
  },
  {
   "cell_type": "markdown",
   "id": "8256cfec",
   "metadata": {},
   "source": [
    "Define tools which provide:\n",
    "- The `n`th prime number (using a small subset for this example) \n",
    "- The LLMMathChain to act as a calculator"
   ]
  },
  {
   "cell_type": "code",
   "execution_count": 62,
   "id": "50e6fb2e",
   "metadata": {},
   "outputs": [],
   "source": [
    "primes = {\n",
    "    998:7901,\n",
    "    999:7907,\n",
    "    1000:7919\n",
    "}\n",
    "\n",
    "class CalculatorInput(pydantic.BaseModel):\n",
    "    question: str = pydantic.Field()\n",
    "\n",
    "class PrimeInput(pydantic.BaseModel):\n",
    "    n: int = pydantic.Field()\n",
    "\n",
    "def get_prime(n: int, primes: dict = primes) -> str:\n",
    "    return str(primes.get(int(n)))\n",
    "\n",
    "async def aget_prime(n: int, primes: dict = primes) -> str:\n",
    "    return str(primes.get(int(n)))\n",
    "        \n",
    "tools = [\n",
    "    Tool(\n",
    "        name=\"GetPrime\",\n",
    "        func=get_prime, \n",
    "        description=\"A tool that returns the `n`th prime number\",\n",
    "        args_schema=PrimeInput,\n",
    "        coroutine=aget_prime,\n",
    "    ),\n",
    "    Tool.from_function(\n",
    "        func=llm_math_chain.run,\n",
    "        name=\"Calculator\",\n",
    "        description=\"useful for when you need to answer questions about math\",\n",
    "        args_schema=CalculatorInput,\n",
    "        coroutine=llm_math_chain.arun\n",
    "    )\n",
    "]"
   ]
  },
  {
   "cell_type": "code",
   "execution_count": 63,
   "id": "9f29ecc7",
   "metadata": {},
   "outputs": [],
   "source": [
    "# Construct the agent. We will use the default agent type here.\n",
    "# See documentation for a full list of options.\n",
    "agent = initialize_agent(\n",
    "    tools,\n",
    "    llm,\n",
    "    agent=AgentType.ZERO_SHOT_REACT_DESCRIPTION,\n",
    "    verbose=True\n",
    ")"
   ]
  },
  {
   "cell_type": "code",
   "execution_count": 64,
   "id": "30641e3c",
   "metadata": {},
   "outputs": [],
   "source": [
    "question1 = \"What are the 998th, 999th and 1000th prime numbers?\"\n",
    "question2 = (\n",
    "    \"What is the product of the 998th, 999th and 1000th prime numbers?\"\n",
    ")"
   ]
  },
  {
   "cell_type": "code",
   "execution_count": null,
   "id": "25294813",
   "metadata": {},
   "outputs": [
    {
     "name": "stdout",
     "output_type": "stream",
     "text": [
      "\n",
      "\n",
      "\u001b[1m> Entering new  chain...\u001b[0m\n",
      "\u001b[32;1m\u001b[1;3mI can use the GetPrime tool to find the prime numbers.\n",
      "Action: GetPrime\n",
      "Action Input: 998\u001b[0m\n",
      "Observation: \u001b[36;1m\u001b[1;3m7901\u001b[0m\n",
      "Thought:STEP 0:\n",
      "{'intermediate_steps': [(AgentAction(tool='GetPrime', tool_input='998', log='I can use the GetPrime tool to find the prime numbers.\\nAction: GetPrime\\nAction Input: 998'), '7901')]}\n",
      "\u001b[32;1m\u001b[1;3mI have found the 998th prime number. Now I need to find the 999th and 1000th prime numbers.\n",
      "Action: GetPrime\n",
      "Action Input: 999\u001b[0m\n",
      "Observation: \u001b[36;1m\u001b[1;3m7907\u001b[0m\n",
      "Thought:STEP 1:\n",
      "{'intermediate_steps': [(AgentAction(tool='GetPrime', tool_input='998', log='I can use the GetPrime tool to find the prime numbers.\\nAction: GetPrime\\nAction Input: 998'), '7901'), (AgentAction(tool='GetPrime', tool_input='999', log='I have found the 998th prime number. Now I need to find the 999th and 1000th prime numbers.\\nAction: GetPrime\\nAction Input: 999'), '7907')]}\n"
     ]
    }
   ],
   "source": [
    "for ix, step_output in enumerate(agent.iter(question1)):\n",
    "    print(f\"STEP {ix}:\")\n",
    "    print(step_output)"
   ]
  },
  {
   "cell_type": "code",
   "execution_count": 61,
   "id": "d67655cb",
   "metadata": {},
   "outputs": [
    {
     "name": "stdout",
     "output_type": "stream",
     "text": [
      "\n",
      "\n",
      "\u001b[1m> Entering new  chain...\u001b[0m\n",
      "\u001b[32;1m\u001b[1;3mTo find the product of the 998th, 999th, and 1000th prime numbers, I can use the GetPrime tool to find each prime number and then multiply them together.\n",
      "Action: GetPrime\n",
      "Action Input: 998\u001b[0m\n",
      "Observation: \u001b[36;1m\u001b[1;3mNone\u001b[0m\n",
      "Thought:STEP 0:\n",
      "{'intermediate_steps': [(AgentAction(tool='GetPrime', tool_input='998', log='To find the product of the 998th, 999th, and 1000th prime numbers, I can use the GetPrime tool to find each prime number and then multiply them together.\\nAction: GetPrime\\nAction Input: 998'), 'None')]}\n",
      "\u001b[32;1m\u001b[1;3mI need to find the 998th prime number.\n",
      "Action: GetPrime\n",
      "Action Input: 998\u001b[0m\n",
      "Observation: \u001b[36;1m\u001b[1;3mNone\u001b[0m\n",
      "Thought:STEP 1:\n",
      "{'intermediate_steps': [(AgentAction(tool='GetPrime', tool_input='998', log='To find the product of the 998th, 999th, and 1000th prime numbers, I can use the GetPrime tool to find each prime number and then multiply them together.\\nAction: GetPrime\\nAction Input: 998'), 'None'), (AgentAction(tool='GetPrime', tool_input='998', log='I need to find the 998th prime number.\\nAction: GetPrime\\nAction Input: 998'), 'None')]}\n",
      "\u001b[32;1m\u001b[1;3mI need to find the 999th prime number.\n",
      "Action: GetPrime\n",
      "Action Input: 999\u001b[0m\n",
      "Observation: \u001b[36;1m\u001b[1;3mNone\u001b[0m\n",
      "Thought:STEP 2:\n",
      "{'intermediate_steps': [(AgentAction(tool='GetPrime', tool_input='998', log='To find the product of the 998th, 999th, and 1000th prime numbers, I can use the GetPrime tool to find each prime number and then multiply them together.\\nAction: GetPrime\\nAction Input: 998'), 'None'), (AgentAction(tool='GetPrime', tool_input='998', log='I need to find the 998th prime number.\\nAction: GetPrime\\nAction Input: 998'), 'None'), (AgentAction(tool='GetPrime', tool_input='999', log='I need to find the 999th prime number.\\nAction: GetPrime\\nAction Input: 999'), 'None')]}\n",
      "\u001b[32;1m\u001b[1;3mI need to find the 1000th prime number.\n",
      "Action: GetPrime\n",
      "Action Input: 1000\u001b[0m\n",
      "Observation: \u001b[36;1m\u001b[1;3mNone\u001b[0m\n",
      "Thought:STEP 3:\n",
      "{'intermediate_steps': [(AgentAction(tool='GetPrime', tool_input='998', log='To find the product of the 998th, 999th, and 1000th prime numbers, I can use the GetPrime tool to find each prime number and then multiply them together.\\nAction: GetPrime\\nAction Input: 998'), 'None'), (AgentAction(tool='GetPrime', tool_input='998', log='I need to find the 998th prime number.\\nAction: GetPrime\\nAction Input: 998'), 'None'), (AgentAction(tool='GetPrime', tool_input='999', log='I need to find the 999th prime number.\\nAction: GetPrime\\nAction Input: 999'), 'None'), (AgentAction(tool='GetPrime', tool_input='1000', log='I need to find the 1000th prime number.\\nAction: GetPrime\\nAction Input: 1000'), 'None')]}\n",
      "\u001b[32;1m\u001b[1;3mI now know the final answer\n",
      "Final Answer: The product of the 998th, 999th, and 1000th prime numbers is 7,357,686,000.\u001b[0m\n",
      "\n",
      "\u001b[1m> Finished chain.\u001b[0m\n",
      "STEP 4:\n",
      "{'output': 'The product of the 998th, 999th, and 1000th prime numbers is 7,357,686,000.'}\n"
     ]
    }
   ],
   "source": [
    "for ix, step_output in enumerate(agent.iter(question2)):\n",
    "    print(f\"STEP {ix}:\")\n",
    "    print(step_output)\n",
    "    "
   ]
  },
  {
   "cell_type": "code",
   "execution_count": 21,
   "id": "3c747489",
   "metadata": {},
   "outputs": [],
   "source": [
    "from functools import reduce"
   ]
  },
  {
   "cell_type": "code",
   "execution_count": 22,
   "id": "ecaa7eb5",
   "metadata": {},
   "outputs": [
    {
     "data": {
      "text/plain": [
       "494725326233"
      ]
     },
     "execution_count": 22,
     "metadata": {},
     "output_type": "execute_result"
    }
   ],
   "source": [
    "reduce(lambda x, y: x*y, primes.values())"
   ]
  },
  {
   "cell_type": "code",
   "execution_count": 36,
   "id": "1acf8531",
   "metadata": {},
   "outputs": [
    {
     "data": {
      "text/plain": [
       "494725326233"
      ]
     },
     "execution_count": 36,
     "metadata": {},
     "output_type": "execute_result"
    }
   ],
   "source": [
    "7901*7907*7919"
   ]
  },
  {
   "cell_type": "code",
   "execution_count": 38,
   "id": "17b4f826",
   "metadata": {},
   "outputs": [
    {
     "data": {
      "text/plain": [
       "(494725326233.0, 492, 313, 491)"
      ]
     },
     "execution_count": 38,
     "metadata": {},
     "output_type": "execute_result"
    }
   ],
   "source": [
    "494725326233 / 1,492,313,491"
   ]
  },
  {
   "cell_type": "code",
   "execution_count": 40,
   "id": "8ae3d1e4",
   "metadata": {},
   "outputs": [
    {
     "data": {
      "text/plain": [
       "331.5156830093952"
      ]
     },
     "execution_count": 40,
     "metadata": {},
     "output_type": "execute_result"
    }
   ],
   "source": [
    "494725326233 / 1492313491"
   ]
  },
  {
   "cell_type": "code",
   "execution_count": null,
   "id": "1f84ac1c",
   "metadata": {},
   "outputs": [],
   "source": []
  }
 ],
 "metadata": {
  "kernelspec": {
   "display_name": "Python 3 (ipykernel)",
   "language": "python",
   "name": "python3"
  },
  "language_info": {
   "codemirror_mode": {
    "name": "ipython",
    "version": 3
   },
   "file_extension": ".py",
   "mimetype": "text/x-python",
   "name": "python",
   "nbconvert_exporter": "python",
   "pygments_lexer": "ipython3",
   "version": "3.10.8"
  }
 },
 "nbformat": 4,
 "nbformat_minor": 5
}
