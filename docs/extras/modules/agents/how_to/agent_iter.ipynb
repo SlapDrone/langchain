{
 "cells": [
  {
   "cell_type": "markdown",
   "id": "feb31cc6",
   "metadata": {},
   "source": [
    "# AgentExecutorIterator Demo\n",
    "\n",
    "To demonstrate the `AgentExecutorIterator` functionality, we will set up a problem where an Agent must:\n",
    "\n",
    "- Retrieve three prime numbers from a Tool\n",
    "- Multiply these together. \n",
    "\n",
    "In this simple problem we can demonstrate adding some logic to verify intermediate steps by checking whether their outputs are prime."
   ]
  },
  {
   "cell_type": "code",
   "execution_count": 22,
   "id": "8167db11",
   "metadata": {},
   "outputs": [],
   "source": [
    "import os\n",
    "\n",
    "import dotenv\n",
    "import pydantic\n",
    "from langchain.agents import AgentExecutor, initialize_agent, AgentType\n",
    "from langchain.schema import AgentFinish\n",
    "from langchain.agents.tools import Tool\n",
    "from langchain import LLMMathChain\n",
    "from langchain.chat_models import ChatOpenAI"
   ]
  },
  {
   "cell_type": "code",
   "execution_count": 30,
   "id": "7e41b9e6",
   "metadata": {},
   "outputs": [],
   "source": [
    "# assuming .env in root of repo contains OPENAI_API_KEY\n",
    "dotenv.load_dotenv(\"../../../../../.env\")\n",
    "\n",
    "# need to use GPT-4 here as GPT-3.5 does not understand, however hard you insist, that\n",
    "# it should use the calculator to perform the final calculation\n",
    "llm = ChatOpenAI(temperature=0, model=\"gpt-4\")\n",
    "llm_math_chain = LLMMathChain.from_llm(llm=llm, verbose=True)"
   ]
  },
  {
   "cell_type": "markdown",
   "id": "81e88aa5",
   "metadata": {},
   "source": [
    "Define tools which provide:\n",
    "- The `n`th prime number (using a small subset for this example) \n",
    "- The LLMMathChain to act as a calculator"
   ]
  },
  {
   "cell_type": "code",
   "execution_count": 24,
   "id": "86f04b55",
   "metadata": {},
   "outputs": [],
   "source": [
    "primes = {\n",
    "    998:7901,\n",
    "    999:7907,\n",
    "    1000:7919\n",
    "}\n",
    "\n",
    "class CalculatorInput(pydantic.BaseModel):\n",
    "    question: str = pydantic.Field()\n",
    "\n",
    "class PrimeInput(pydantic.BaseModel):\n",
    "    n: int = pydantic.Field()\n",
    "\n",
    "def is_prime(n: int) -> bool:\n",
    "    if n <= 1 or (n % 2 == 0 and n > 2): \n",
    "        return False\n",
    "    for i in range(3, int(n**0.5) + 1, 2):\n",
    "        if n % i == 0:\n",
    "            return False\n",
    "    return True\n",
    "        \n",
    "def get_prime(n: int, primes: dict = primes) -> str:\n",
    "    return str(primes.get(int(n)))\n",
    "\n",
    "async def aget_prime(n: int, primes: dict = primes) -> str:\n",
    "    return str(primes.get(int(n)))\n",
    "\n",
    "tools = [\n",
    "    Tool(\n",
    "        name=\"GetPrime\",\n",
    "        func=get_prime, \n",
    "        description=\"A tool that returns the `n`th prime number\",\n",
    "        args_schema=PrimeInput,\n",
    "        coroutine=aget_prime,\n",
    "    ),\n",
    "    Tool.from_function(\n",
    "        func=llm_math_chain.run,\n",
    "        name=\"Calculator\",\n",
    "        description=\"Useful for when you need to compute mathematical expressions\",\n",
    "        args_schema=CalculatorInput,\n",
    "        coroutine=llm_math_chain.arun\n",
    "    )\n",
    "]"
   ]
  },
  {
   "cell_type": "markdown",
   "id": "0e660ee6",
   "metadata": {},
   "source": [
    "Construct the agent. We will use the default agent type here."
   ]
  },
  {
   "cell_type": "code",
   "execution_count": 28,
   "id": "21c775b0",
   "metadata": {},
   "outputs": [],
   "source": [
    "agent = initialize_agent(\n",
    "    tools,\n",
    "    llm,\n",
    "    agent=AgentType.ZERO_SHOT_REACT_DESCRIPTION,\n",
    "    verbose=True\n",
    ")"
   ]
  },
  {
   "cell_type": "markdown",
   "id": "a233fe4e",
   "metadata": {},
   "source": [
    "Run the iteration and perform a custom check on certain steps:"
   ]
  },
  {
   "cell_type": "code",
   "execution_count": 27,
   "id": "582d61f4",
   "metadata": {},
   "outputs": [
    {
     "name": "stdout",
     "output_type": "stream",
     "text": [
      "\n",
      "\n",
      "\u001b[1m> Entering new  chain...\u001b[0m\n",
      "\u001b[32;1m\u001b[1;3mI need to find the 998th, 999th and 1000th prime numbers and then multiply them together.\n",
      "Action: GetPrime\n",
      "Action Input: 998\u001b[0m\n",
      "Observation: \u001b[36;1m\u001b[1;3m7901\u001b[0m\n",
      "Thought:Checking whether 7901 is prime...\n",
      "\u001b[32;1m\u001b[1;3mI have the 998th prime number. Now I need to find the 999th prime number.\n",
      "Action: GetPrime\n",
      "Action Input: 999\u001b[0m\n",
      "Observation: \u001b[36;1m\u001b[1;3m7907\u001b[0m\n",
      "Thought:Checking whether 7907 is prime...\n",
      "\u001b[32;1m\u001b[1;3mI have the 999th prime number. Now I need to find the 1000th prime number.\n",
      "Action: GetPrime\n",
      "Action Input: 1000\u001b[0m\n",
      "Observation: \u001b[36;1m\u001b[1;3m7919\u001b[0m\n",
      "Thought:Checking whether 7919 is prime...\n",
      "\u001b[32;1m\u001b[1;3mI have the 1000th prime number. Now I need to multiply all three prime numbers together.\n",
      "Action: Calculator\n",
      "Action Input: 7901 * 7907 * 7919\u001b[0m\n",
      "\n",
      "\u001b[1m> Entering new  chain...\u001b[0m\n",
      "7901 * 7907 * 7919\u001b[32;1m\u001b[1;3m```text\n",
      "7901 * 7907 * 7919\n",
      "```\n",
      "...numexpr.evaluate(\"7901 * 7907 * 7919\")...\n",
      "\u001b[0m\n",
      "Answer: \u001b[33;1m\u001b[1;3m494725326233\u001b[0m\n",
      "\u001b[1m> Finished chain.\u001b[0m\n",
      "\n",
      "Observation: \u001b[33;1m\u001b[1;3mAnswer: 494725326233\u001b[0m\n",
      "Thought:\u001b[32;1m\u001b[1;3mI now know the final answer\n",
      "Final Answer: 494725326233\u001b[0m\n",
      "\n",
      "\u001b[1m> Finished chain.\u001b[0m\n",
      "Answer: 494725326233\n"
     ]
    }
   ],
   "source": [
    "question = (\n",
    "    \"What is the product of the 998th, 999th and 1000th prime numbers?\"\n",
    ")\n",
    "\n",
    "for ix, step in enumerate(agent.iter(question)):\n",
    "    if \"output\" not in step:\n",
    "        action, output = step[0]\n",
    "        if action.tool == \"GetPrime\":\n",
    "            print(f\"Checking whether {output} is prime...\")\n",
    "            assert is_prime(int(output))\n",
    "else:\n",
    "    print(output)"
   ]
  }
 ],
 "metadata": {
  "kernelspec": {
   "display_name": "Python 3 (ipykernel)",
   "language": "python",
   "name": "python3"
  },
  "language_info": {
   "codemirror_mode": {
    "name": "ipython",
    "version": 3
   },
   "file_extension": ".py",
   "mimetype": "text/x-python",
   "name": "python",
   "nbconvert_exporter": "python",
   "pygments_lexer": "ipython3",
   "version": "3.10.8"
  }
 },
 "nbformat": 4,
 "nbformat_minor": 5
}
